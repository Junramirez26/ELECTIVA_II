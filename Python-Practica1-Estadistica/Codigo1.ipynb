{
 "cells": [
  {
   "cell_type": "markdown",
   "metadata": {},
   "source": [
    "# Instalacion de librerias"
   ]
  },
  {
   "cell_type": "code",
   "execution_count": null,
   "metadata": {},
   "outputs": [],
   "source": [
    "pip install numpy # type: ignore"
   ]
  },
  {
   "cell_type": "code",
   "execution_count": null,
   "metadata": {},
   "outputs": [],
   "source": [
    "pip install matplotlib # type: ignore"
   ]
  },
  {
   "cell_type": "code",
   "execution_count": null,
   "metadata": {},
   "outputs": [],
   "source": [
    "pip install pandas # type: ignore"
   ]
  },
  {
   "cell_type": "code",
   "execution_count": null,
   "metadata": {},
   "outputs": [],
   "source": [
    "pip install seaborn # type: ignore"
   ]
  },
  {
   "cell_type": "code",
   "execution_count": null,
   "metadata": {},
   "outputs": [],
   "source": [
    "import matplotlib.pyplot as plt\n",
    "import pandas as pd\n",
    "import seaborn as sns\n",
    "\n",
    "#Definir los datos cualitativos sobre las preferencias del color\n",
    "datos_cualitativos = {\n",
    "'color' : ['Azul', 'Amarillo', 'Azul', 'Rojo', 'Rojo', 'Rojo', 'Amarillo'], \n",
    "'preferencia' : ['Alta', 'Media', 'Alta', 'Baja', 'Baja', 'Baja', 'Media']\n",
    "}\n",
    "\n",
    "#Crear el dataframe\n",
    "df_cualitativos = pd.DataFrame(datos_cualitativos)\n",
    "\n",
    "#Graficar con plt\n",
    "plt.figure(figsize=(12,5))\n",
    "\n",
    "#Creacion de subgrafica por filas y columnas\n",
    "plt.subplot(1,2,1)\n",
    "sns.countplot(x='color', data=df_cualitativos, palette='viridis')\n",
    "plt.title('Frecuencia de colores')\n",
    "plt.xlabel('colores')\n",
    "plt.ylabel('Frecuencia')\n",
    "\n",
    "#Creacion de subgrafica 2\n",
    "plt.subplot(1,2,2)\n",
    "sns.countplot(x='preferencia', data=df_cualitativos, palette='magma')\n",
    "plt.title('Frecuencia de preferencias')\n",
    "plt.xlabel('Preferencias')\n",
    "plt.ylabel('Frecuencia')\n"
   ]
  },
  {
   "cell_type": "code",
   "execution_count": null,
   "metadata": {},
   "outputs": [],
   "source": [
    "datos_cuantitativos = {\n",
    "    'Edades' : [20, 50, 25, 20, 75, 25, 27],\n",
    "    'Ingresos' : [3000, 3500, 4000, 3000, 6000, 4000, 3700]\n",
    "}\n",
    "\n",
    "#Creacion de df para cuantitativos\n",
    "df_cuantitativos = pd.DataFrame(datos_cuantitativos)\n",
    "\n",
    "plt.figure(figsize=(12,5))\n",
    "\n",
    "#Creacion de subgrafica por filas y columnas\n",
    "plt.subplot(1,2,1)\n",
    "sns.histplot(df_cuantitativos['Edades'], bins=5, kde=True, color='blue')\n",
    "plt.title('Distribucion de Edades')\n",
    "plt.xlabel('Edad')\n",
    "plt.ylabel('Frecuencia')\n",
    "\n"
   ]
  },
  {
   "cell_type": "code",
   "execution_count": null,
   "metadata": {},
   "outputs": [],
   "source": [
    "import statistics as st\n",
    "\n",
    "edades = [30,35,40,45,50,31,37]\n",
    "\n",
    "media = st.mean(edades)\n",
    "mediana = st.median(edades)\n",
    "moda = st.mode(edades)\n",
    "\n",
    "print(f\"media: {media}\")\n",
    "print(f\"mediana: {mediana}\")\n",
    "print(f\"moda: {moda}\")\n"
   ]
  }
 ],
 "metadata": {
  "kernelspec": {
   "display_name": "Python 3",
   "language": "python",
   "name": "python3"
  },
  "language_info": {
   "codemirror_mode": {
    "name": "ipython",
    "version": 3
   },
   "file_extension": ".py",
   "mimetype": "text/x-python",
   "name": "python",
   "nbconvert_exporter": "python",
   "pygments_lexer": "ipython3",
   "version": "3.13.2"
  }
 },
 "nbformat": 4,
 "nbformat_minor": 2
}
